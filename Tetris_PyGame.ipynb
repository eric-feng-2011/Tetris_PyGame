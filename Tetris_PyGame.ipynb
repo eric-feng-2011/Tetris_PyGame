{
 "cells": [
  {
   "cell_type": "code",
   "execution_count": 1,
   "metadata": {},
   "outputs": [
    {
     "name": "stdout",
     "output_type": "stream",
     "text": [
      "pygame 1.9.6\n",
      "Hello from the pygame community. https://www.pygame.org/contribute.html\n"
     ]
    }
   ],
   "source": [
    "import pygame\n",
    "import pygame.locals"
   ]
  },
  {
   "cell_type": "code",
   "execution_count": 2,
   "metadata": {},
   "outputs": [
    {
     "name": "stdout",
     "output_type": "stream",
     "text": [
      "image_width: 32.000000 image_height 32.000000\n"
     ]
    }
   ],
   "source": [
    "#@source https://qq.readthedocs.io/en/latest/tiles.html\n",
    "\n",
    "# TODO: Replace this function with simple call to load after debugging\n",
    "def load_tile_sprite(filename):\n",
    "    image = pygame.image.load(filename).convert()\n",
    "    image_width, image_height = image.get_size()\n",
    "    print(\"image_width: %f image_height %f\" %(image_width, image_height))\n",
    "    return image\n",
    "\n",
    "if __name__=='__main__':\n",
    "    pygame.init()\n",
    "    screen = pygame.display.set_mode((128, 98))\n",
    "    screen.fill((255, 255, 255))\n",
    "    background_tile = load_tile_sprite(\"background.png\")\n",
    "    \n",
    "    screen.blit(background_tile, (64, 24))\n",
    "    pygame.display.flip()\n",
    "    while pygame.event.wait().type != pygame.locals.QUIT:\n",
    "        pass"
   ]
  },
  {
   "cell_type": "code",
   "execution_count": 5,
   "metadata": {
    "collapsed": true
   },
   "outputs": [],
   "source": [
    "class Level(object):\n",
    "\n",
    "    def __init__(self):\n",
    "        self.width = 10\n",
    "        self.height = 20\n",
    "    \n",
    "    def render(self):\n",
    "        # tiles = MAP_CACHE[self.tileset]\n",
    "        tile = pygame.image.load(\"background.png\").convert()\n",
    "        image = pygame.Surface((self.width*MAP_TILE_WIDTH, self.height*MAP_TILE_HEIGHT))\n",
    "        for map_y in range(self.height):\n",
    "            for map_x in range(self.width):\n",
    "                image.blit(tile,\n",
    "                           (map_x*MAP_TILE_WIDTH, map_y*MAP_TILE_HEIGHT))\n",
    "        return image"
   ]
  },
  {
   "cell_type": "code",
   "execution_count": 8,
   "metadata": {},
   "outputs": [],
   "source": [
    "if __name__ == \"__main__\":\n",
    "    screen = pygame.display.set_mode((424, 320))\n",
    "\n",
    "    MAP_TILE_WIDTH = 32\n",
    "    MAP_TILE_HEIGHT = 32\n",
    "    \n",
    "    level = Level()\n",
    "\n",
    "    clock = pygame.time.Clock()\n",
    "\n",
    "    background = level.render()\n",
    "#     overlays = pygame.sprite.RenderUpdates()\n",
    "#     for (x, y), image in overlay_dict.iteritems():\n",
    "#         overlay = pygame.sprite.Sprite(overlays)\n",
    "#         overlay.image = image\n",
    "#         overlay.rect = image.get_rect().move(x * 24, y * 16 - 16)\n",
    "    screen.blit(background, (0, 0))\n",
    "#     overlays.draw(screen)\n",
    "    pygame.display.flip()"
   ]
  },
  {
   "cell_type": "code",
   "execution_count": null,
   "metadata": {
    "collapsed": true
   },
   "outputs": [],
   "source": []
  }
 ],
 "metadata": {
  "kernelspec": {
   "display_name": "Python 3",
   "language": "python",
   "name": "python3"
  },
  "language_info": {
   "codemirror_mode": {
    "name": "ipython",
    "version": 3
   },
   "file_extension": ".py",
   "mimetype": "text/x-python",
   "name": "python",
   "nbconvert_exporter": "python",
   "pygments_lexer": "ipython3",
   "version": "3.6.1"
  }
 },
 "nbformat": 4,
 "nbformat_minor": 2
}
